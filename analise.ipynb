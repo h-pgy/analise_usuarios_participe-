{
 "cells": [
  {
   "cell_type": "code",
   "execution_count": 1,
   "id": "b1fd5cc8-f3dc-47c1-9ced-a9bb1645f870",
   "metadata": {},
   "outputs": [],
   "source": [
    "from source.read_data import MockDB\n",
    "import pandas as pd\n",
    "from pprint import pprint\n",
    "from collections import OrderedDict"
   ]
  },
  {
   "cell_type": "code",
   "execution_count": 2,
   "id": "a2c7d1b0-bb83-4045-af2f-de5e288c3d9a",
   "metadata": {},
   "outputs": [],
   "source": [
    "pd.set_option('display.max_columns', None)"
   ]
  },
  {
   "cell_type": "code",
   "execution_count": 3,
   "id": "61c19ac2-0aab-4edd-ae57-229a878f33e1",
   "metadata": {},
   "outputs": [],
   "source": [
    "db = MockDB()"
   ]
  },
  {
   "cell_type": "code",
   "execution_count": 4,
   "id": "bf9311d9-1bc2-49d0-bbd4-1f5079e27576",
   "metadata": {
    "tags": []
   },
   "outputs": [],
   "source": [
    "schema = db.schema"
   ]
  },
  {
   "cell_type": "code",
   "execution_count": 5,
   "id": "b4488d33-cca7-41e2-960b-5d32e15bb2f1",
   "metadata": {},
   "outputs": [],
   "source": [
    "schema_legislacao = {key : val for key, val in schema.items() if 'legislation' in key}"
   ]
  },
  {
   "cell_type": "code",
   "execution_count": 6,
   "id": "65de6335-df08-4757-8533-05c8eb098423",
   "metadata": {},
   "outputs": [
    {
     "name": "stdout",
     "output_type": "stream",
     "text": [
      "{'legislation_annotations': ['id',\n",
      "                             'quote',\n",
      "                             'ranges',\n",
      "                             'text',\n",
      "                             'legislation_draft_version_id',\n",
      "                             'author_id',\n",
      "                             'hidden_at',\n",
      "                             'created_at',\n",
      "                             'updated_at',\n",
      "                             'comments_count',\n",
      "                             'range_start',\n",
      "                             'range_start_offset',\n",
      "                             'range_end',\n",
      "                             'range_end_offset',\n",
      "                             'context',\n",
      "                             None,\n",
      "                             None,\n",
      "                             None,\n",
      "                             None,\n",
      "                             None,\n",
      "                             None,\n",
      "                             None],\n",
      " 'legislation_answers': ['id',\n",
      "                         'legislation_question_id',\n",
      "                         'legislation_question_option_id',\n",
      "                         'user_id',\n",
      "                         'hidden_at',\n",
      "                         'created_at',\n",
      "                         'updated_at'],\n",
      " 'legislation_assessments': ['id',\n",
      "                             'legislation_topic_id',\n",
      "                             'legislation_evaluation_id',\n",
      "                             'title',\n",
      "                             'topic_votes_count'],\n",
      " 'legislation_draft_version_translations': ['id',\n",
      "                                            'legislation_draft_version_id',\n",
      "                                            'locale',\n",
      "                                            'created_at',\n",
      "                                            'updated_at',\n",
      "                                            'title',\n",
      "                                            'changelog',\n",
      "                                            'body',\n",
      "                                            'hidden_at',\n",
      "                                            None,\n",
      "                                            None,\n",
      "                                            None,\n",
      "                                            None,\n",
      "                                            None,\n",
      "                                            None,\n",
      "                                            None,\n",
      "                                            None,\n",
      "                                            None,\n",
      "                                            None,\n",
      "                                            None],\n",
      " 'legislation_draft_versions': ['id',\n",
      "                                'legislation_process_id',\n",
      "                                'status',\n",
      "                                'final_version',\n",
      "                                'hidden_at',\n",
      "                                'created_at',\n",
      "                                'updated_at'],\n",
      " 'legislation_evaluations': ['id', 'legislation_topic_level_id', 'title'],\n",
      " 'legislation_process_translations': ['id',\n",
      "                                      'legislation_process_id',\n",
      "                                      'locale',\n",
      "                                      'created_at',\n",
      "                                      'updated_at',\n",
      "                                      'title',\n",
      "                                      'summary',\n",
      "                                      'description',\n",
      "                                      'additional_info',\n",
      "                                      'milestones_summary',\n",
      "                                      'homepage',\n",
      "                                      'hidden_at'],\n",
      " 'legislation_processes': ['id',\n",
      "                           'start_date',\n",
      "                           'end_date',\n",
      "                           'debate_start_date',\n",
      "                           'debate_end_date',\n",
      "                           'draft_publication_date',\n",
      "                           'allegations_start_date',\n",
      "                           'allegations_end_date',\n",
      "                           'result_publication_date',\n",
      "                           'hidden_at',\n",
      "                           'created_at',\n",
      "                           'updated_at',\n",
      "                           'debate_phase_enabled',\n",
      "                           'allegations_phase_enabled',\n",
      "                           'draft_publication_enabled',\n",
      "                           'result_publication_enabled',\n",
      "                           'published',\n",
      "                           'proposals_phase_start_date',\n",
      "                           'proposals_phase_end_date',\n",
      "                           'proposals_phase_enabled',\n",
      "                           'proposals_description',\n",
      "                           'draft_start_date',\n",
      "                           'draft_end_date',\n",
      "                           'draft_phase_enabled',\n",
      "                           'homepage_enabled',\n",
      "                           'background_color',\n",
      "                           'font_color',\n",
      "                           'topics_phase_start_date',\n",
      "                           'topics_phase_end_date',\n",
      "                           'topics_phase_enabled'],\n",
      " 'legislation_proposals': ['id',\n",
      "                           'legislation_process_id',\n",
      "                           'title',\n",
      "                           'description',\n",
      "                           'author_id',\n",
      "                           'hidden_at',\n",
      "                           'flags_count',\n",
      "                           'ignored_flag_at',\n",
      "                           'cached_votes_up',\n",
      "                           'comments_count',\n",
      "                           'confirmed_hide_at',\n",
      "                           'hot_score',\n",
      "                           'confidence_score',\n",
      "                           'responsible_name',\n",
      "                           'summary',\n",
      "                           'video_url',\n",
      "                           'tsv',\n",
      "                           'geozone_id',\n",
      "                           'retired_at',\n",
      "                           'retired_reason',\n",
      "                           'retired_explanation',\n",
      "                           'community_id',\n",
      "                           'created_at',\n",
      "                           'updated_at',\n",
      "                           'cached_votes_total',\n",
      "                           'cached_votes_down',\n",
      "                           'selected',\n",
      "                           'cached_votes_score'],\n",
      " 'legislation_question_option_translations': ['id',\n",
      "                                              'legislation_question_option_id',\n",
      "                                              'locale',\n",
      "                                              'created_at',\n",
      "                                              'updated_at',\n",
      "                                              'value',\n",
      "                                              'hidden_at'],\n",
      " 'legislation_question_options': ['id',\n",
      "                                  'legislation_question_id',\n",
      "                                  'answers_count',\n",
      "                                  'hidden_at',\n",
      "                                  'created_at',\n",
      "                                  'updated_at'],\n",
      " 'legislation_question_translations': ['id',\n",
      "                                       'legislation_question_id',\n",
      "                                       'locale',\n",
      "                                       'created_at',\n",
      "                                       'updated_at',\n",
      "                                       'title',\n",
      "                                       'hidden_at'],\n",
      " 'legislation_questions': ['id',\n",
      "                           'legislation_process_id',\n",
      "                           'answers_count',\n",
      "                           'hidden_at',\n",
      "                           'created_at',\n",
      "                           'updated_at',\n",
      "                           'comments_count',\n",
      "                           'author_id'],\n",
      " 'legislation_topic_levels': ['id', 'title', 'level', 'legislation_process_id'],\n",
      " 'legislation_topic_votes': ['id',\n",
      "                             'legislation_topic_id',\n",
      "                             'legislation_assessment_id',\n",
      "                             'user_id',\n",
      "                             'comment'],\n",
      " 'legislation_topics': ['id',\n",
      "                        'legislation_process_id',\n",
      "                        'legislation_topic_level_id',\n",
      "                        'title',\n",
      "                        'description',\n",
      "                        'topic_votes_count',\n",
      "                        'evaluable',\n",
      "                        'ancestry']}\n"
     ]
    }
   ],
   "source": [
    "pprint(schema_legislacao)"
   ]
  },
  {
   "cell_type": "code",
   "execution_count": 7,
   "id": "45906287-023b-42cc-853e-6a9c4939b224",
   "metadata": {},
   "outputs": [
    {
     "data": {
      "text/plain": [
       "dict_keys(['legislation_processes', 'legislation_questions', 'legislation_draft_versions', 'legislation_process_translations', 'legislation_evaluations', 'legislation_question_options', 'legislation_answers', 'legislation_topics', 'legislation_assessments', 'legislation_draft_version_translations', 'legislation_topic_levels', 'legislation_annotations', 'legislation_proposals', 'legislation_question_option_translations', 'legislation_question_translations', 'legislation_topic_votes'])"
      ]
     },
     "execution_count": 7,
     "metadata": {},
     "output_type": "execute_result"
    }
   ],
   "source": [
    "schema_legislacao.keys()"
   ]
  },
  {
   "cell_type": "code",
   "execution_count": 8,
   "id": "1a9ea20c-a3b3-4909-a4dd-8436b640039d",
   "metadata": {},
   "outputs": [
    {
     "name": "stdout",
     "output_type": "stream",
     "text": [
      "['id',\n",
      " 'legislation_process_id',\n",
      " 'answers_count',\n",
      " 'hidden_at',\n",
      " 'created_at',\n",
      " 'updated_at',\n",
      " 'comments_count',\n",
      " 'author_id']\n"
     ]
    }
   ],
   "source": [
    "pprint(schema_legislacao['legislation_questions'])"
   ]
  },
  {
   "cell_type": "code",
   "execution_count": 9,
   "id": "901e6411-07b0-4ade-8798-45cdb74a1bec",
   "metadata": {},
   "outputs": [
    {
     "name": "stdout",
     "output_type": "stream",
     "text": [
      "['id',\n",
      " 'legislation_question_id',\n",
      " 'legislation_question_option_id',\n",
      " 'user_id',\n",
      " 'hidden_at',\n",
      " 'created_at',\n",
      " 'updated_at']\n"
     ]
    }
   ],
   "source": [
    "pprint(schema_legislacao['legislation_answers'])"
   ]
  },
  {
   "cell_type": "code",
   "execution_count": 10,
   "id": "9f6a17c7-0921-4ce2-a701-ae4c877c567c",
   "metadata": {},
   "outputs": [
    {
     "name": "stdout",
     "output_type": "stream",
     "text": [
      "['id',\n",
      " 'start_date',\n",
      " 'end_date',\n",
      " 'debate_start_date',\n",
      " 'debate_end_date',\n",
      " 'draft_publication_date',\n",
      " 'allegations_start_date',\n",
      " 'allegations_end_date',\n",
      " 'result_publication_date',\n",
      " 'hidden_at',\n",
      " 'created_at',\n",
      " 'updated_at',\n",
      " 'debate_phase_enabled',\n",
      " 'allegations_phase_enabled',\n",
      " 'draft_publication_enabled',\n",
      " 'result_publication_enabled',\n",
      " 'published',\n",
      " 'proposals_phase_start_date',\n",
      " 'proposals_phase_end_date',\n",
      " 'proposals_phase_enabled',\n",
      " 'proposals_description',\n",
      " 'draft_start_date',\n",
      " 'draft_end_date',\n",
      " 'draft_phase_enabled',\n",
      " 'homepage_enabled',\n",
      " 'background_color',\n",
      " 'font_color',\n",
      " 'topics_phase_start_date',\n",
      " 'topics_phase_end_date',\n",
      " 'topics_phase_enabled']\n"
     ]
    }
   ],
   "source": [
    "pprint(schema_legislacao['legislation_processes'])"
   ]
  },
  {
   "cell_type": "code",
   "execution_count": 11,
   "id": "6a7dcef2-f42a-4a56-91f0-479ac10260d7",
   "metadata": {},
   "outputs": [],
   "source": [
    "def processes_with_name(db):\n",
    "    \n",
    "    processess = db['legislation_processes']\n",
    "    names = db['legislation_process_translations']\n",
    "    \n",
    "    merged = pd.merge(\n",
    "                    names, \n",
    "                    processess,\n",
    "                    left_on = 'legislation_process_id',\n",
    "                    right_on = 'id',\n",
    "                    how='inner',\n",
    "                    suffixes = ('_process_names', '_process')\n",
    "                     )\n",
    "    \n",
    "    return merged"
   ]
  },
  {
   "cell_type": "code",
   "execution_count": 12,
   "id": "65c8aa33-bf3f-4992-a9e7-04a0159b6b80",
   "metadata": {},
   "outputs": [],
   "source": [
    "def filter_processes_columns(processes_with_names):\n",
    "    \n",
    "    columns = [\n",
    "        'legislation_process_id',\n",
    "        'title',\n",
    "        'summary',\n",
    "        'start_date',\n",
    "        'end_date'\n",
    "    ]\n",
    "    \n",
    "    \n",
    "    return processes_with_names[columns].copy()"
   ]
  },
  {
   "cell_type": "code",
   "execution_count": 13,
   "id": "bc709f8e-a47f-4814-ab15-a5d281b55872",
   "metadata": {},
   "outputs": [],
   "source": [
    "processes = filter_processes_columns(\n",
    "                processes_with_name(db)\n",
    "            )"
   ]
  },
  {
   "cell_type": "code",
   "execution_count": 14,
   "id": "78caa786-5cc8-42b8-890f-0e90f1e7fab4",
   "metadata": {},
   "outputs": [],
   "source": [
    "def legis_topics_by_process(db, processes):\n",
    "    \n",
    "    topics = db['legislation_topics']\n",
    "    \n",
    "    \n",
    "    merged = pd.merge(\n",
    "                    topics, \n",
    "                    processes,\n",
    "                    on = 'legislation_process_id',\n",
    "                    how='inner',\n",
    "                    suffixes = ('_topic', '_process')\n",
    "                     )\n",
    "    return merged"
   ]
  },
  {
   "cell_type": "code",
   "execution_count": 15,
   "id": "10842639-0c49-4b32-9a48-4ff5d05910d2",
   "metadata": {},
   "outputs": [],
   "source": [
    "def votes_by_topic(db, topics):\n",
    "    \n",
    "    votes = db['legislation_topic_votes']\n",
    "    \n",
    "    merged = pd.merge(\n",
    "                    topics, \n",
    "                    votes,\n",
    "                    left_on = 'id',\n",
    "                    right_on = 'legislation_topic_id',\n",
    "                    how='inner',\n",
    "                    suffixes = ('_topic', '_votes')\n",
    "                     )\n",
    "    return merged"
   ]
  },
  {
   "cell_type": "code",
   "execution_count": 16,
   "id": "eedcf1c0-0b47-4ce6-a4f1-c4171c533d71",
   "metadata": {},
   "outputs": [],
   "source": [
    "def proposals_by_process(db, processes):\n",
    "    \n",
    "    proposals = db['legislation_proposals']\n",
    "    \n",
    "    merged = pd.merge(\n",
    "                    proposals, \n",
    "                    processes,\n",
    "                    on = 'legislation_process_id',\n",
    "                    how='inner',\n",
    "                    suffixes = ('_proposal', '_process')\n",
    "                     )\n",
    "    return merged"
   ]
  },
  {
   "cell_type": "code",
   "execution_count": 17,
   "id": "6ace1fdb-f154-43b2-ab50-36ba7ebea093",
   "metadata": {},
   "outputs": [],
   "source": [
    "def proposals_data_set(db, processes):\n",
    "    \n",
    "    proposals = proposals_by_process(db, processes)\n",
    "    \n",
    "    #verificar depois se acrescento votos\n",
    "    renamed_columns = OrderedDict({\n",
    "        'legislation_process_id' : 'process_id',\n",
    "        'title_process' : 'process_title',\n",
    "        'title_process' : 'process_summary',\n",
    "        'start_date' : 'process_start_date',\n",
    "        'end_date': 'process_end_date',\n",
    "        'id' : 'proposal_id',\n",
    "        'title_proposal' : 'proposal_title',\n",
    "        'summary_proposal' : 'proposal_summary',\n",
    "        'description' : 'proposal_description',\n",
    "        'author_id' : 'proposal_author_id'\n",
    "        \n",
    "    })\n",
    "    \n",
    "    proposals = proposals.rename(renamed_columns, axis = 1)\n",
    "    proposals = proposals[renamed_columns.values()].copy()\n",
    "    \n",
    "    return proposals"
   ]
  },
  {
   "cell_type": "code",
   "execution_count": 18,
   "id": "f9844f5f-3583-4ae3-9ae8-43c14e24e8ec",
   "metadata": {},
   "outputs": [],
   "source": [
    "def questions_by_process(db, processess):\n",
    "    \n",
    "    questions = db['legislation_questions']\n",
    "    \n",
    "    merged = pd.merge(\n",
    "                    questions, \n",
    "                    processess,\n",
    "                    on = 'legislation_process_id',\n",
    "                    how='inner',\n",
    "                    suffixes = ('_questions', '_process')\n",
    "                     )\n",
    "    return merged"
   ]
  },
  {
   "cell_type": "code",
   "execution_count": 19,
   "id": "f9565926-9b40-44a9-9e59-d94507e8482c",
   "metadata": {},
   "outputs": [],
   "source": [
    "def answers_by_question(db, questions):\n",
    "    \n",
    "    answers = db['legislation_answers']\n",
    "    \n",
    "    merged = pd.merge(\n",
    "                    questions, \n",
    "                    answers,\n",
    "                    left_on = 'id',\n",
    "                    right_on = 'legislation_question_id',\n",
    "                    how='inner',\n",
    "                    suffixes = ('_questions', '_answers')\n",
    "                     )\n",
    "    return merged"
   ]
  },
  {
   "cell_type": "code",
   "execution_count": 20,
   "id": "96704b84-47e2-4545-92f7-a60dc1f44289",
   "metadata": {},
   "outputs": [],
   "source": [
    "def answers_data_set(db, processes):\n",
    "    \n",
    "    questions = questions_by_process(db, processes)\n",
    "    answers = answers_by_question(db, questions)\n",
    "    \n",
    "    renamed_columns = OrderedDict({\n",
    "        'legislation_process_id' : 'process_id',\n",
    "        'title' : 'process_title',\n",
    "        'summary' : 'process_summary',\n",
    "        'start_date' : 'process_start_date',\n",
    "        'end_date': 'process_end_date',\n",
    "        'id_questions' : 'question_id',\n",
    "        'answers_count' : 'question_answers_count',\n",
    "        'id_answers' : 'answer_id',\n",
    "        'author_id' : 'question_author_id',\n",
    "        'legislation_question_option_id' : 'question_option_id',\n",
    "        'user_id' : 'answer_author_id'\n",
    "        \n",
    "    })\n",
    "    \n",
    "    answers = answers.rename(renamed_columns, axis = 1)\n",
    "    answers = answers[renamed_columns.values()].copy()\n",
    "    \n",
    "    return answers"
   ]
  },
  {
   "cell_type": "code",
   "execution_count": 21,
   "id": "2af35be2-8566-4244-b58d-15c824df9912",
   "metadata": {},
   "outputs": [],
   "source": [
    "answers = answers_data_set(db, processes)"
   ]
  },
  {
   "cell_type": "code",
   "execution_count": 22,
   "id": "24ae0dc4-e21c-47b1-b759-65f623eb9202",
   "metadata": {},
   "outputs": [],
   "source": [
    "proposals = proposals_data_set(db, processes)"
   ]
  },
  {
   "cell_type": "code",
   "execution_count": 23,
   "id": "156abe3f-5209-4623-b85d-def0022da3f9",
   "metadata": {},
   "outputs": [
    {
     "data": {
      "text/plain": [
       "Index(['process_id', 'process_summary', 'process_start_date',\n",
       "       'process_end_date', 'proposal_id', 'proposal_title', 'proposal_summary',\n",
       "       'proposal_description', 'proposal_author_id'],\n",
       "      dtype='object')"
      ]
     },
     "execution_count": 23,
     "metadata": {},
     "output_type": "execute_result"
    }
   ],
   "source": [
    "proposals.keys()"
   ]
  },
  {
   "cell_type": "code",
   "execution_count": 24,
   "id": "d767adb1-cb85-481d-8559-dde819e3cdc7",
   "metadata": {},
   "outputs": [],
   "source": [
    "topics = legis_topics_by_process(db, processes)"
   ]
  },
  {
   "cell_type": "code",
   "execution_count": null,
   "id": "f6b546cb-3987-4b9b-8837-663a81efe9e2",
   "metadata": {},
   "outputs": [],
   "source": []
  }
 ],
 "metadata": {
  "kernelspec": {
   "display_name": "Python 3",
   "language": "python",
   "name": "python3"
  },
  "language_info": {
   "codemirror_mode": {
    "name": "ipython",
    "version": 3
   },
   "file_extension": ".py",
   "mimetype": "text/x-python",
   "name": "python",
   "nbconvert_exporter": "python",
   "pygments_lexer": "ipython3",
   "version": "3.8.8"
  }
 },
 "nbformat": 4,
 "nbformat_minor": 5
}
